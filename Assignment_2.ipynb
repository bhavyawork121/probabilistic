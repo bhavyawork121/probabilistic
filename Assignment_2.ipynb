{
 "cells": [
  {
   "cell_type": "code",
   "execution_count": null,
   "id": "b49da04f",
   "metadata": {},
   "outputs": [
    {
     "name": "stdout",
     "output_type": "stream",
     "text": [
      "The number of red marbles remaining is: 5\n",
      "The total number of marbles remaining is: 11\n",
      "The probability of the second marble being red is 5/11\n",
      "As a decimal, the probability is: 0.45454545454545453\n"
     ]
    }
   ],
   "source": [
    "red_marbles = 5\n",
    "blue_marbles = 7\n",
    "total_marbles = red_marbles + blue_marbles\n",
    "red_marbles_remaining = 5\n",
    "total_marbles_remaining = total_marbles - 1\n",
    "probability = red_marbles_remaining / total_marbles_remaining\n",
    "print(f\"The number of red marbles remaining is: {red_marbles_remaining}\")\n",
    "print(f\"The total number of marbles remaining is: {total_marbles_remaining}\")\n",
    "print(f\"The probability of the second marble being red is {red_marbles_remaining}/{total_marbles_remaining}\")\n",
    "print(f\"As a decimal, the probability is: {probability}\")\n"
   ]
  },
  {
   "cell_type": "code",
   "execution_count": 3,
   "id": "94a2ebe5",
   "metadata": {},
   "outputs": [
    {
     "name": "stdout",
     "output_type": "stream",
     "text": [
      "The probability of a person having the disease given a positive test is: 0.3242\n",
      "As a percentage, this is approximately: 32.42%\n"
     ]
    }
   ],
   "source": [
    "p_disease = 0.01\n",
    "p_positive_given_disease = 0.95\n",
    "p_positive_given_no_disease = 0.02\n",
    "p_no_disease = 1 - p_disease\n",
    "p_true_positive = p_positive_given_disease * p_disease\n",
    "p_false_positive = p_positive_given_no_disease * p_no_disease\n",
    "p_positive = p_true_positive + p_false_positive\n",
    "p_disease_given_positive = p_true_positive / p_positive\n",
    "print(f\"The probability of a person having the disease given a positive test is: {p_disease_given_positive:.4f}\")\n",
    "print(f\"As a percentage, this is approximately: {p_disease_given_positive:.2%}\")"
   ]
  },
  {
   "cell_type": "code",
   "execution_count": 2,
   "id": "916b65f4",
   "metadata": {},
   "outputs": [
    {
     "name": "stdout",
     "output_type": "stream",
     "text": [
      "The revised probability is: 0.9532\n",
      "As a percentage, this is: 95.32%\n"
     ]
    }
   ],
   "source": [
    "p_disease = 0.30\n",
    "p_positive_given_disease = 0.95\n",
    "p_positive_given_no_disease = 0.02\n",
    "\n",
    "p_no_disease = 1 - p_disease\n",
    "\n",
    "p_true_positive = p_positive_given_disease * p_disease\n",
    "p_false_positive = p_positive_given_no_disease * p_no_disease\n",
    "\n",
    "p_positive = p_true_positive + p_false_positive\n",
    "\n",
    "p_disease_given_positive = p_true_positive / p_positive\n",
    "\n",
    "print(f\"The revised probability is: {p_disease_given_positive:.4f}\")\n",
    "print(f\"As a percentage, this is: {p_disease_given_positive:.2%}\")\n"
   ]
  },
  {
   "cell_type": "code",
   "execution_count": 1,
   "id": "8d675244",
   "metadata": {},
   "outputs": [
    {
     "name": "stdout",
     "output_type": "stream",
     "text": [
      "--- Venn Diagram Values ---\n",
      "Students studying ONLY Physics: 15\n",
      "Students studying ONLY Chemistry: 10\n",
      "Students studying BOTH subjects: 15\n",
      "Students studying NEITHER subject: 10\n",
      "\n",
      "--- Probability Calculation ---\n",
      "The probability of selecting a student who studies only Physics is: 15/50\n",
      "As a decimal: 0.3\n"
     ]
    }
   ],
   "source": [
    "total_students = 50\n",
    "physics_students = 30\n",
    "chemistry_students = 25\n",
    "both_students = 15\n",
    "\n",
    "only_physics = physics_students - both_students\n",
    "only_chemistry = chemistry_students - both_students\n",
    "neither = total_students - (only_physics + only_chemistry + both_students)\n",
    "\n",
    "probability_only_physics = only_physics / total_students\n",
    "\n",
    "print(\"--- Venn Diagram Values ---\")\n",
    "print(f\"Students studying ONLY Physics: {only_physics}\")\n",
    "print(f\"Students studying ONLY Chemistry: {only_chemistry}\")\n",
    "print(f\"Students studying BOTH subjects: {both_students}\")\n",
    "print(f\"Students studying NEITHER subject: {neither}\")\n",
    "print(\"\\n--- Probability Calculation ---\")\n",
    "print(f\"The probability of selecting a student who studies only Physics is: {only_physics}/{total_students}\")\n",
    "print(f\"As a decimal: {probability_only_physics}\")"
   ]
  }
 ],
 "metadata": {
  "kernelspec": {
   "display_name": "Python 3",
   "language": "python",
   "name": "python3"
  },
  "language_info": {
   "codemirror_mode": {
    "name": "ipython",
    "version": 3
   },
   "file_extension": ".py",
   "mimetype": "text/x-python",
   "name": "python",
   "nbconvert_exporter": "python",
   "pygments_lexer": "ipython3",
   "version": "3.9.6"
  }
 },
 "nbformat": 4,
 "nbformat_minor": 5
}
